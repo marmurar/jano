{
 "cells": [
  {
   "cell_type": "markdown",
   "metadata": {},
   "source": [
    "# Jano"
   ]
  },
  {
   "cell_type": "markdown",
   "metadata": {},
   "source": [
    "*God of beginnins, time and trasitions... *"
   ]
  },
  {
   "cell_type": "markdown",
   "metadata": {},
   "source": [
    "---------------------------------------------------------------"
   ]
  },
  {
   "cell_type": "markdown",
   "metadata": {},
   "source": [
    "### What is Jano ?"
   ]
  },
  {
   "cell_type": "markdown",
   "metadata": {},
   "source": [
    "__Jano is a pandas dataframe time slicer designed designed to train and test time dependant machine learning models.__ Basically it needs a dataframe with at\n",
    "least one time variable to iterate over and slice time in several dataframes. Users can think of Jano as an extention of sklearn.model_selection.TimeSeriesSplit.\n",
    "Jano tackles some of the following questions: \n",
    "    * How much data should i use in train and test to make robust predictions over time ? \n",
    "    * When should i re train the model ?\n",
    "    * How longer can i manitain model performance over time ?"
   ]
  }
 ],
 "metadata": {
  "kernelspec": {
   "display_name": "Python 3",
   "language": "python",
   "name": "python3"
  },
  "language_info": {
   "codemirror_mode": {
    "name": "ipython",
    "version": 3
   },
   "file_extension": ".py",
   "mimetype": "text/x-python",
   "name": "python",
   "nbconvert_exporter": "python",
   "pygments_lexer": "ipython3",
   "version": "3.6.3"
  }
 },
 "nbformat": 4,
 "nbformat_minor": 2
}
