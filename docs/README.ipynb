{
 "cells": [
  {
   "cell_type": "markdown",
   "metadata": {},
   "source": [
    "# Jano"
   ]
  },
  {
   "cell_type": "markdown",
   "metadata": {},
   "source": [
    "*God of beginnins, time and trasitions... *"
   ]
  },
  {
   "cell_type": "markdown",
   "metadata": {},
   "source": [
    "---------------------------------------------------------------"
   ]
  },
  {
   "cell_type": "markdown",
   "metadata": {},
   "source": [
    "### What is Jano ?"
   ]
  },
  {
   "cell_type": "markdown",
   "metadata": {},
   "source": [
    "__Jano is a pandas dataframe time slicer designed designed to train and test time dependant machine learning models.__ Basically it needs a dataframe with at\n",
    "least one time variable to iterate over and slice time in several dataframes. Users can think of Jano as an extention of sklearn.model_selection.TimeSeriesSplit.\n",
    "Jano tackles some of the following questions: \n",
    "    1. How much data should be used in train and test to make robust predictions over time ? \n",
    "    2. When the model should be re trained ?\n",
    "    3. How long will the model maintain performance ?\n",
    "    4. Do attributes distirbutions change over time ?\n",
    "    5. Does my target change over time ?\n",
    "    \n",
    "    Etc..."
   ]
  },
  {
   "cell_type": "markdown",
   "metadata": {},
   "source": [
    "### How to use Jano ?"
   ]
  },
  {
   "cell_type": "markdown",
   "metadata": {},
   "source": [
    "Jano \"walks\" over dataframes slicing time and defining where train and test begins and ends. It walks along an user defined mask with the condition to iterate over time. Use jano.walk_one() method make only one slice and jano.walk() when "
   ]
  },
  {
   "cell_type": "markdown",
   "metadata": {},
   "source": [
    "![alt text](jano.jpg)"
   ]
  }
 ],
 "metadata": {
  "kernelspec": {
   "display_name": "Python 3",
   "language": "python",
   "name": "python3"
  },
  "language_info": {
   "codemirror_mode": {
    "name": "ipython",
    "version": 3
   },
   "file_extension": ".py",
   "mimetype": "text/x-python",
   "name": "python",
   "nbconvert_exporter": "python",
   "pygments_lexer": "ipython3",
   "version": "3.6.3"
  }
 },
 "nbformat": 4,
 "nbformat_minor": 2
}
