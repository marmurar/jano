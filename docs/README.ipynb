{
 "cells": [
  {
   "cell_type": "markdown",
   "metadata": {},
   "source": [
    "# Jano"
   ]
  },
  {
   "cell_type": "markdown",
   "metadata": {},
   "source": [
    "*God of beginnins, time and trasitions... *"
   ]
  },
  {
   "cell_type": "markdown",
   "metadata": {},
   "source": [
    "---------------------------------------------------------------"
   ]
  },
  {
   "cell_type": "markdown",
   "metadata": {},
   "source": [
    "## What is Jano ?"
   ]
  },
  {
   "cell_type": "markdown",
   "metadata": {},
   "source": [
    "__Jano is a time slicer designed to train and test time correlated machine learning models.__ Jano operates by \"walking\" along pandas dataframes with at least one time variable. Users can think of Jano as an iteration over a dtaframe of sklearn.model_selection.TimeSeriesSplit where a few features are addes such as: definning training size iteration over time, test size, a definen gap of time between train and test, etc...\n",
    "\n",
    "__Jano was essentially designed to test how will a defined model will behaive over time based on your disposable trasactional data.__ On the other hand tryes to tackle some of the following questions: How much data should be used in train and test to make robust predictions over time ?When the model should be re trained ?, How long will the model maintain performance ?, Do distribution attributes change over time ?, Does my target distirbution change over time ?"
   ]
  },
  {
   "cell_type": "markdown",
   "metadata": {},
   "source": [
    "##  What is a mask ?"
   ]
  },
  {
   "cell_type": "markdown",
   "metadata": {},
   "source": [
    "A mask is defined by the users and simply defines how would you like to iterate over a defined dataframe, check this example: "
   ]
  },
  {
   "cell_type": "code",
   "execution_count": null,
   "metadata": {},
   "outputs": [],
   "source": [
    " import pandas as pd\n",
    "\n",
    "df = pd.DataFrame('date':['01-01-2020', '02-01-2020', '03-01-2020',\n",
    "                          '04-01-2020', '05-01-2020', '06-01-2020',\n",
    "                          '07-01-2020', '08-01-2020', '09-01-2020'],\n",
    "                  'attrib':[9,4,2,3,4,5,6,1,2,4]\n",
    "                  'target':[0,1,2,3,4,5,6,7,8,9])"
   ]
  },
  {
   "cell_type": "code",
   "execution_count": null,
   "metadata": {},
   "outputs": [],
   "source": [
    "import jano as jano\n",
    "\n",
    "jano = Jano(df)\n",
    "\n",
    "# Define a jano mask:\n",
    "jano.mask(train_days = 8, \n",
    "          gap = 1, \n",
    "          test_days = 1, \n",
    "          target = 'target', \n",
    "          train_date_attrib = 'date')"
   ]
  },
  {
   "cell_type": "markdown",
   "metadata": {},
   "source": [
    "__In this example Jano uses 8 days to train, tests with 1 day and leaves 1 day as a gap from the end of the train until the start of the test period.__ If you want to iterate over a dataframe with the defined mask then you want to \"walk\" over a dataframe, check te following example..."
   ]
  },
  {
   "cell_type": "markdown",
   "metadata": {},
   "source": [
    "!['basic walk usage'](jano)"
   ]
  },
  {
   "cell_type": "markdown",
   "metadata": {},
   "source": [
    "## How to \"walk\" with Jano ?"
   ]
  },
  {
   "cell_type": "markdown",
   "metadata": {},
   "source": [
    "__Jano \"walks\" over dataframes slicing time and defining where train and test begins and ends.__ It walks along an user defined mask with the condition to iterate over time. We'l the above dataframe to make a simple example training and testing with 2 and 1 day, leaving no days between train and test."
   ]
  },
  {
   "cell_type": "code",
   "execution_count": null,
   "metadata": {},
   "outputs": [],
   "source": [
    "# Re-define the mask:\n",
    "jano.mask(train_days = 1, \n",
    "          gap = 0, \n",
    "          test_days = 1, \n",
    "          target = 'target', \n",
    "          train_date_attrib = 'date')"
   ]
  },
  {
   "cell_type": "code",
   "execution_count": null,
   "metadata": {},
   "outputs": [],
   "source": [
    "for X_train, X_test, y_train, y_test in jano.walk(begin=0, iterations=3, shift=0):\n",
    "    <train your model...>\n",
    "    <predict...>\n",
    "    <check results !>"
   ]
  },
  {
   "cell_type": "markdown",
   "metadata": {},
   "source": [
    "For the above example we get four splitted dataframes(X_train, X_test, y_train, y_test) splitted from the first day of the dataframe (since parameter \"begin\" is 0 which is the first day) and each for iterarion will return a new dataframe.\n",
    "\n",
    "__This is exactly what we did !__"
   ]
  },
  {
   "cell_type": "markdown",
   "metadata": {},
   "source": [
    "!['basic walk usage'](jano_walk.gif)"
   ]
  },
  {
   "cell_type": "markdown",
   "metadata": {},
   "source": [
    "---"
   ]
  },
  {
   "cell_type": "markdown",
   "metadata": {},
   "source": [
    "### Author:"
   ]
  },
  {
   "cell_type": "markdown",
   "metadata": {},
   "source": [
    "Marcos Manuel Muraro"
   ]
  }
 ],
 "metadata": {
  "kernelspec": {
   "display_name": "Python 3",
   "language": "python",
   "name": "python3"
  },
  "language_info": {
   "codemirror_mode": {
    "name": "ipython",
    "version": 3
   },
   "file_extension": ".py",
   "mimetype": "text/x-python",
   "name": "python",
   "nbconvert_exporter": "python",
   "pygments_lexer": "ipython3",
   "version": "3.6.3"
  }
 },
 "nbformat": 4,
 "nbformat_minor": 2
}
